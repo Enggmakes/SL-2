{
 "cells": [
  {
   "cell_type": "code",
   "execution_count": 3,
   "id": "90f3b1cf-901a-4aec-8b55-b22c10282e36",
   "metadata": {},
   "outputs": [],
   "source": [
    "import matplotlib.pyplot as plt\n",
    "import numpy as np"
   ]
  },
  {
   "cell_type": "code",
   "execution_count": 1,
   "id": "b1499f8c-5e7b-45a9-86d8-6fef475167c1",
   "metadata": {},
   "outputs": [],
   "source": [
    "class AF():\n",
    "    def linear(x):\n",
    "     return x\n",
    "\n",
    "    def sigmoid(x):\n",
    "     return 1/(1+np.exp(-x))\n",
    "    \n",
    "    def tanh(x):\n",
    "     return np.tanh(x)\n",
    "    \n",
    "    def RELU(x):\n",
    "        x1=[]\n",
    "        for i in x:\n",
    "            if i<0:\n",
    "                x1.append(0)\n",
    "            else:\n",
    "                x1.append(i)\n",
    "        return x1\n",
    "\n",
    "    def softmax(x):\n",
    "     return np.exp(x) / np.sum(np.exp(x), axis=0)\n",
    "    "
   ]
  },
  {
   "cell_type": "code",
   "execution_count": 2,
   "id": "40c27538-0e7d-401d-9172-538a11c13c31",
   "metadata": {},
   "outputs": [
    {
     "ename": "NameError",
     "evalue": "name 'np' is not defined",
     "output_type": "error",
     "traceback": [
      "\u001b[1;31m---------------------------------------------------------------------------\u001b[0m",
      "\u001b[1;31mNameError\u001b[0m                                 Traceback (most recent call last)",
      "Cell \u001b[1;32mIn[2], line 19\u001b[0m\n\u001b[0;32m     17\u001b[0m     plt\u001b[38;5;241m.\u001b[39mshow()\n\u001b[0;32m     18\u001b[0m \u001b[38;5;28;01melif\u001b[39;00m n\u001b[38;5;241m==\u001b[39m\u001b[38;5;241m2\u001b[39m:\n\u001b[1;32m---> 19\u001b[0m     x \u001b[38;5;241m=\u001b[39m \u001b[43mnp\u001b[49m\u001b[38;5;241m.\u001b[39mlinspace(\u001b[38;5;241m-\u001b[39m\u001b[38;5;241m10\u001b[39m, \u001b[38;5;241m10\u001b[39m)\n\u001b[0;32m     20\u001b[0m     plt\u001b[38;5;241m.\u001b[39mplot(x, AF\u001b[38;5;241m.\u001b[39msigmoid(x))\n\u001b[0;32m     21\u001b[0m     plt\u001b[38;5;241m.\u001b[39mtitle(\u001b[38;5;124m'\u001b[39m\u001b[38;5;124mActivation Function :Sigmoid\u001b[39m\u001b[38;5;124m'\u001b[39m)\n",
      "\u001b[1;31mNameError\u001b[0m: name 'np' is not defined"
     ]
    }
   ],
   "source": [
    "while True:\n",
    "    n = int(input(\"Enter\\n 0. to Cancel\\n 1. Linear\\n 2. Sigmoid\\n 3.Tanh\\n 4.ReLU\\n 5.Softmax\\n \"))\n",
    "    if n==0:\n",
    "        x = np.linspace(-10, 100)\n",
    "        plt.plot(x, AF.linear(x))\n",
    "        plt.title('Activation Function :Linear')\n",
    "        plt.show()\n",
    "        x = np.linspace(-10, 10)\n",
    "        plt.plot(x, AF.RELU(x))\n",
    "        plt.title('Activation Function :ReLU')\n",
    "        plt.show()\n",
    "        break\n",
    "    if n==1:\n",
    "        x = np.linspace(-10, 100)\n",
    "        plt.plot(x, AF.linear(x))\n",
    "        plt.title('Activation Function :Linear')\n",
    "        plt.show()\n",
    "    elif n==2:\n",
    "        x = np.linspace(-10, 10)\n",
    "        plt.plot(x, AF.sigmoid(x))\n",
    "        plt.title('Activation Function :Sigmoid')\n",
    "        plt.show()\n",
    "    elif n==3:\n",
    "        x = np.linspace(-10, 10)\n",
    "        plt.plot(x, AF.tanh(x))\n",
    "        plt.title('Activation Function :Tanh')\n",
    "        plt.show()\n",
    "    elif n==4:\n",
    "        x = np.linspace(-10, 10)\n",
    "        plt.plot(x, AF.RELU(x))\n",
    "        plt.title('Activation Function :ReLU')\n",
    "        plt.show()\n",
    "    elif n==5:\n",
    "        x = np.linspace(-10, 10)\n",
    "        plt.plot(x, AF.softmax(x))\n",
    "        plt.title('Activation Function :Softmax')\n",
    "        plt.show()"
   ]
  },
  {
   "cell_type": "code",
   "execution_count": null,
   "id": "5862bdab-1fe4-483b-b118-094fca197633",
   "metadata": {},
   "outputs": [],
   "source": []
  },
  {
   "cell_type": "code",
   "execution_count": null,
   "id": "07773df6-1732-4dc4-972f-c405907e4160",
   "metadata": {},
   "outputs": [],
   "source": []
  }
 ],
 "metadata": {
  "kernelspec": {
   "display_name": "Python 3",
   "language": "python",
   "name": "python3"
  },
  "language_info": {
   "codemirror_mode": {
    "name": "ipython",
    "version": 3
   },
   "file_extension": ".py",
   "mimetype": "text/x-python",
   "name": "python",
   "nbconvert_exporter": "python",
   "pygments_lexer": "ipython3",
   "version": "3.10.0"
  }
 },
 "nbformat": 4,
 "nbformat_minor": 5
}
