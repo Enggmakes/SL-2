{
 "cells": [
  {
   "cell_type": "code",
   "execution_count": null,
   "id": "5f0f4177-2284-4b8d-9469-4c2446d36d23",
   "metadata": {},
   "outputs": [],
   "source": [
    "import numpy as np"
   ]
  },
  {
   "cell_type": "code",
   "execution_count": 47,
   "id": "51bfd2ce-5f97-4fcb-9b51-a8d1a05e03c8",
   "metadata": {},
   "outputs": [
    {
     "name": "stdout",
     "output_type": "stream",
     "text": [
      "input:[1 0] output:[1.] target:[1]\n",
      "input:[0 1] output:[1.] target:[1]\n",
      "input:[1 1] output:[0.] target:[0]\n",
      "input:[0 0] output:[0.] target:[0]\n"
     ]
    }
   ],
   "source": [
    "def sigmoid(x):\n",
    "    return 1/(1+np.exp(-x))\n",
    "def sigmoid_derivative(x):\n",
    "    return sigmoid(x)*(1-sigmoid(x))\n",
    "def xor(inputs):\n",
    "    return np.array([int(inputs[0]!=inputs[1])])\n",
    "input_data=np.array([[0, 0], [0, 1], [1, 0], [1, 1],[0,0],[1,0],[0,1],[1,1]])\n",
    "target_data=np.array([[0],[1],[1],[0],[0],[1],[1],[0]])\n",
    "\n",
    "input_size=2\n",
    "hidden_size=8\n",
    "output_size=1\n",
    "\n",
    "hidden_weight=np.random.uniform(size=(input_size,hidden_size))\n",
    "output_weight=np.random.uniform(size=(hidden_size,output_size))\n",
    "\n",
    "learning_rate=0.1\n",
    "epochs=10000\n",
    "\n",
    "for epoch in range(epochs):\n",
    "    hidden_layer=sigmoid(np.dot(input_data,hidden_weight))\n",
    "    output_layer=sigmoid(np.dot(hidden_layer,output_weight))\n",
    "\n",
    "    output_error=target_data-output_layer\n",
    "    output_delta=output_error*sigmoid_derivative(output_layer)\n",
    "    hidden_error = output_delta.dot(output_weight.T)\n",
    "    hidden_delta=hidden_error*sigmoid_derivative(hidden_layer)\n",
    "\n",
    "    output_weight+=hidden_layer.T.dot(output_delta)*learning_rate\n",
    "    hidden_weight+=input_data.T.dot(hidden_delta)*learning_rate\n",
    "\n",
    "test_input=np.array([[1,0],[0,1],[1,1],[0,0]])\n",
    "for i in range(len(test_input)):\n",
    "    prediction=sigmoid(np.dot(sigmoid(np.dot(test_input[i],hidden_weight)),output_weight))\n",
    "    print(f\"input:{test_input[i]} output:{prediction.round()} target:{xor(test_input[i])}\")\n",
    "        "
   ]
  },
  {
   "cell_type": "code",
   "execution_count": null,
   "id": "b5e09bf0-77f4-4dde-9cf9-b98c20e0d492",
   "metadata": {},
   "outputs": [],
   "source": []
  }
 ],
 "metadata": {
  "kernelspec": {
   "display_name": "Python 3 (ipykernel)",
   "language": "python",
   "name": "python3"
  },
  "language_info": {
   "codemirror_mode": {
    "name": "ipython",
    "version": 3
   },
   "file_extension": ".py",
   "mimetype": "text/x-python",
   "name": "python",
   "nbconvert_exporter": "python",
   "pygments_lexer": "ipython3",
   "version": "3.10.0"
  }
 },
 "nbformat": 4,
 "nbformat_minor": 5
}
