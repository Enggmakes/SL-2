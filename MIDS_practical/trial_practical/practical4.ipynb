{
 "cells": [
  {
   "cell_type": "code",
   "execution_count": 3,
   "id": "fcd47f81-97a1-47f1-9fc8-ef988b07bd7a",
   "metadata": {},
   "outputs": [
    {
     "name": "stdout",
     "output_type": "stream",
     "text": [
      "K-means clustering Results\n",
      "1.P6 belong to cluster:C1\n",
      "2.population around m2(C2):3\n",
      "3.updated centroids:\n",
      " m1=[0.16 0.74]\n",
      " m2=[0.24666667 0.2       ]\n",
      "final assignment\n",
      "\n",
      "C1 (cluster 1):['P1', 'P3', 'P4', 'P6']\n",
      "C2 (cluster 2):['P5', 'P7', 'P8']\n"
     ]
    }
   ],
   "source": [
    "import numpy as np\n",
    "points={\"P1\":[0.1,0.6],'P1':[0.15,0.71],'P3':[0.08,0.9],'P4':[0.16,0.85],'P5':[0.2,0.3],\n",
    "        'P6':[0.25,0.5],'P6':[0.25,0.5],'P7':[0.24,0.1],'P8':[0.3,0.2]}\n",
    "m1=np.array(points['P1'])\n",
    "m2=np.array(points['P8'])\n",
    "\n",
    "def euclidean_distance(p1,p2):\n",
    "    return np.sqrt(np.sum((np.array(p1)-np.array(p2))**2))\n",
    "def assign_clusters(m1,m2):\n",
    "    clusters ={\"C1\":[],\"C2\":[]}\n",
    "    for point, coords in points.items():\n",
    "        d1=euclidean_distance(coords,m1)\n",
    "        d2=euclidean_distance(coords,m2)\n",
    "        if d1 <d2:\n",
    "            clusters[\"C1\"].append(point)\n",
    "        else:\n",
    "            clusters[\"C2\"].append(point)\n",
    "    return clusters\n",
    "\n",
    "clusters = assign_clusters(m1,m2)\n",
    "def compute_new_centroid(cluster_points):\n",
    "    if not cluster_points:\n",
    "        return None\n",
    "    cluster_coords=[points[p] for p in cluster_points]\n",
    "    return np.mean(cluster_coords,axis=0)\n",
    "\n",
    "new_m1=compute_new_centroid(clusters[\"C1\"])\n",
    "new_m2=compute_new_centroid(clusters[\"C2\"])\n",
    "P6_cluster=\"C1\" if \"P6\" in clusters[\"C1\"] else \"C2\"\n",
    "population_C2=len(clusters[\"C2\"])\n",
    "print(\"K-means clustering Results\")\n",
    "print(f\"1.P6 belong to cluster:{P6_cluster}\")\n",
    "print(f\"2.population around m2(C2):{population_C2}\")\n",
    "print(f\"3.updated centroids:\\n m1={new_m1}\\n m2={new_m2}\")\n",
    "\n",
    "print(\"final assignment\\n\")\n",
    "print(f\"C1 (cluster 1):{clusters['C1']}\")\n",
    "print(f\"C2 (cluster 2):{clusters['C2']}\")\n"
   ]
  },
  {
   "cell_type": "code",
   "execution_count": null,
   "id": "9840d1fb-dc33-4e52-929b-5b39964d6dc0",
   "metadata": {},
   "outputs": [],
   "source": []
  }
 ],
 "metadata": {
  "kernelspec": {
   "display_name": "Python 3 (ipykernel)",
   "language": "python",
   "name": "python3"
  },
  "language_info": {
   "codemirror_mode": {
    "name": "ipython",
    "version": 3
   },
   "file_extension": ".py",
   "mimetype": "text/x-python",
   "name": "python",
   "nbconvert_exporter": "python",
   "pygments_lexer": "ipython3",
   "version": "3.10.0"
  }
 },
 "nbformat": 4,
 "nbformat_minor": 5
}
