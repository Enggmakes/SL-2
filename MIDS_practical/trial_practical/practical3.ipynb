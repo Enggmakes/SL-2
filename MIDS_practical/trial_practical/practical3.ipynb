{
 "cells": [
  {
   "cell_type": "code",
   "execution_count": 5,
   "id": "72fd4a29-3f82-4ed0-abce-727b8bff88ed",
   "metadata": {},
   "outputs": [
    {
     "name": "stdout",
     "output_type": "stream",
     "text": [
      "Negative statement\n"
     ]
    }
   ],
   "source": [
    "positive_words={\"happy\",\"good\",\"nice\",\"love\",\"amazing\",\"great\",\"awsome\"}\n",
    "negative_words={\"bad\",\"awful\",\"boring\",\"dirty\",\"sad\",\"hate\",\"angry\"}\n",
    "\n",
    "def classify_document(text):\n",
    "    words=text.lower().split()\n",
    "    positive_count=sum(1 for word in words if word in positive_words)\n",
    "    negative_count=sum(1 for word in words if word in negative_words)\n",
    "\n",
    "    if positive_count > negative_count:\n",
    "        return \"Positive Statement\"\n",
    "    elif negative_count >positive_count:\n",
    "        return \"Negative statement\"\n",
    "    else:\n",
    "        return \"Neutral statement\"\n",
    "\n",
    "doc=\" i am so sad to share that i done painting in nice format but this painting got dirty when suddenly my son thrown water on it.\"\n",
    "result=classify_document(doc)\n",
    "print(result)"
   ]
  },
  {
   "cell_type": "code",
   "execution_count": null,
   "id": "d8019a65-18e8-4225-8bc7-6a97ec4c26db",
   "metadata": {},
   "outputs": [],
   "source": []
  }
 ],
 "metadata": {
  "kernelspec": {
   "display_name": "Python 3 (ipykernel)",
   "language": "python",
   "name": "python3"
  },
  "language_info": {
   "codemirror_mode": {
    "name": "ipython",
    "version": 3
   },
   "file_extension": ".py",
   "mimetype": "text/x-python",
   "name": "python",
   "nbconvert_exporter": "python",
   "pygments_lexer": "ipython3",
   "version": "3.10.0"
  }
 },
 "nbformat": 4,
 "nbformat_minor": 5
}
